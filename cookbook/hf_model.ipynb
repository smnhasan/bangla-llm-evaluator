{
 "cells": [
  {
   "cell_type": "code",
   "id": "initial_id",
   "metadata": {
    "collapsed": true
   },
   "source": "!pip install torch transformers sacrebleu tqdm",
   "outputs": [],
   "execution_count": null
  },
  {
   "metadata": {},
   "cell_type": "code",
   "source": [
    "data = [\n",
    "  {\n",
    "    \"prompt\": \"ব্যবহারকারী: তুমি কি আমাকে আবহাওয়ার খবর বলতে পারো?\\nএজেন্ট:\",\n",
    "    \"target\": \"অবশ্যই! দয়া করে আপনার অবস্থান জানান, আমি আবহাওয়ার খবর জানাব।\"\n",
    "  },\n",
    "  {\n",
    "    \"prompt\": \"ব্যবহারকারী: আজ শুক্রবার, আমি ছুটিতে আছি!\\nএজেন্ট:\",\n",
    "    \"target\": \"দারুণ! ছুটির দিনটি উপভোগ করুন।\"\n",
    "  }\n",
    "]"
   ],
   "id": "6432f717a52fd06",
   "outputs": [],
   "execution_count": null
  },
  {
   "metadata": {},
   "cell_type": "code",
   "source": [
    "import json\n",
    "import sacrebleu\n",
    "from tqdm import tqdm\n",
    "\n",
    "# ==== Load your LLM ====\n",
    "# Replace this with however you load your model\n",
    "# Example for HuggingFace:\n",
    "from transformers import AutoTokenizer, AutoModelForCausalLM\n",
    "\n",
    "model_name = \"google/mt5-base\"\n",
    "tokenizer = AutoTokenizer.from_pretrained(model_name)\n",
    "model = AutoModelForCausalLM.from_pretrained(model_name).to(\"cuda\")\n",
    "\n",
    "def generate_text(prompt, max_new_tokens=64):\n",
    "    inputs = tokenizer(prompt, return_tensors=\"pt\").to(\"cuda\")\n",
    "    output = model.generate(**inputs, max_new_tokens=max_new_tokens)\n",
    "    return tokenizer.decode(output[0], skip_special_tokens=True).replace(prompt, \"\").strip()\n",
    "\n",
    "\n",
    "# ==== Load Data ====\n",
    "def load_data(json_file):\n",
    "    with open(json_file, \"r\", encoding=\"utf-8\") as f:\n",
    "        return json.load(f)\n",
    "\n",
    "# ==== Evaluate BLEU ====\n",
    "def evaluate_bleu(data, stop_sequence=None):\n",
    "    references = []\n",
    "    predictions = []\n",
    "\n",
    "    for item in tqdm(data, desc=\"Evaluating\"):\n",
    "        prompt = item[\"prompt\"]\n",
    "        target = item[\"target\"]\n",
    "\n",
    "        generated = generate_text(prompt, stop_sequence=stop_sequence)\n",
    "\n",
    "        references.append([target])\n",
    "        predictions.append(generated)\n",
    "\n",
    "    bleu = sacrebleu.corpus_bleu(predictions, references)\n",
    "    return bleu.score, list(zip(predictions, [ref[0] for ref in references]))\n",
    "\n",
    "# ==== Main ====\n",
    "if __name__ == \"__main__\":\n",
    "    # Example data file with [{\"prompt\": \"...\", \"target\": \"...\"}]\n",
    "    DATA_FILE = \"data.json\"\n",
    "\n",
    "    data = load_data(DATA_FILE)\n",
    "    bleu_score, results = evaluate_bleu(data)\n",
    "\n",
    "    print(f\"\\n🔍 Average BLEU Score: {bleu_score:.2f}\\n\")\n",
    "\n",
    "    # Optional: print sample outputs\n",
    "    for i, (gen, ref) in enumerate(results[:5]):\n",
    "        print(f\"Example {i+1}\")\n",
    "        print(f\"🔹 Prompt     : {data[i]['prompt']}\")\n",
    "        print(f\"✅ Reference  : {ref}\")\n",
    "        print(f\"🤖 Generated  : {gen}\")\n",
    "        print(\"-\" * 60)\n"
   ],
   "id": "b302bdf8efb29d2b",
   "outputs": [],
   "execution_count": null
  }
 ],
 "metadata": {
  "kernelspec": {
   "display_name": "Python 3",
   "language": "python",
   "name": "python3"
  },
  "language_info": {
   "codemirror_mode": {
    "name": "ipython",
    "version": 2
   },
   "file_extension": ".py",
   "mimetype": "text/x-python",
   "name": "python",
   "nbconvert_exporter": "python",
   "pygments_lexer": "ipython2",
   "version": "2.7.6"
  }
 },
 "nbformat": 4,
 "nbformat_minor": 5
}
