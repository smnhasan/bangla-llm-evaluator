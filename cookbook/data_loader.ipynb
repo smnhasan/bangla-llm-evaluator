{
 "cells": [
  {
   "cell_type": "code",
   "id": "initial_id",
   "metadata": {
    "collapsed": true,
    "ExecuteTime": {
     "end_time": "2025-08-06T16:41:45.921415Z",
     "start_time": "2025-08-06T16:41:45.683608Z"
    }
   },
   "source": "from llm_evaluator.data.loader import DatasetLoader",
   "outputs": [],
   "execution_count": 1
  },
  {
   "metadata": {
    "ExecuteTime": {
     "end_time": "2025-08-06T16:41:46.017726Z",
     "start_time": "2025-08-06T16:41:46.003736Z"
    }
   },
   "cell_type": "code",
   "source": "data_loader = DatasetLoader()",
   "id": "985fb0d792ec7473",
   "outputs": [],
   "execution_count": 2
  },
  {
   "metadata": {
    "ExecuteTime": {
     "end_time": "2025-08-06T16:43:35.270959Z",
     "start_time": "2025-08-06T16:43:35.268491Z"
    }
   },
   "cell_type": "code",
   "source": [
    "keys = data_loader.list_datasets()\n",
    "print(keys)"
   ],
   "id": "6d689aad993dbc25",
   "outputs": [
    {
     "name": "stdout",
     "output_type": "stream",
     "text": [
      "['special_instruction_adherence', 'conversation_fluency', 'edge_case_handling', 'guardrails_compliance', 'task_execution', 'tool_calling', 'language_proficiency']\n"
     ]
    }
   ],
   "execution_count": 6
  },
  {
   "metadata": {
    "ExecuteTime": {
     "end_time": "2025-08-06T16:42:19.680057Z",
     "start_time": "2025-08-06T16:42:19.670090Z"
    }
   },
   "cell_type": "code",
   "source": [
    "dataset = data_loader.get_dataset('conversation_fluency')\n",
    "dataset.head()"
   ],
   "id": "70f255a519b10a82",
   "outputs": [
    {
     "data": {
      "text/plain": [
       "                   input_text  \\\n",
       "0             আপনি কেমন আছেন?   \n",
       "1  আজকের ঢাকার আবহাওয়া কেমন?   \n",
       "2         আপনি কী করতে পারেন?   \n",
       "3         তুমি কি বাংলা বোঝো?   \n",
       "4        তুমি কীভাবে কাজ করো?   \n",
       "\n",
       "                                           reference  \n",
       "0             আমি ভালো আছি, ধন্যবাদ! আপনি কেমন আছেন?  \n",
       "1  আজকের ঢাকার আবহাওয়া আংশিক মেঘলা, তাপমাত্রা প্...  \n",
       "2  আমি তথ্য খুঁজে দিতে, প্রশ্নের উত্তর দিতে এবং ব...  \n",
       "3         হ্যাঁ, আমি বাংলায় কথা বলতে এবং বুঝতে পারি।  \n",
       "4  আমি কৃত্রিম বুদ্ধিমত্তা ব্যবহার করে আপনার প্রশ...  "
      ],
      "text/html": [
       "<div>\n",
       "<style scoped>\n",
       "    .dataframe tbody tr th:only-of-type {\n",
       "        vertical-align: middle;\n",
       "    }\n",
       "\n",
       "    .dataframe tbody tr th {\n",
       "        vertical-align: top;\n",
       "    }\n",
       "\n",
       "    .dataframe thead th {\n",
       "        text-align: right;\n",
       "    }\n",
       "</style>\n",
       "<table border=\"1\" class=\"dataframe\">\n",
       "  <thead>\n",
       "    <tr style=\"text-align: right;\">\n",
       "      <th></th>\n",
       "      <th>input_text</th>\n",
       "      <th>reference</th>\n",
       "    </tr>\n",
       "  </thead>\n",
       "  <tbody>\n",
       "    <tr>\n",
       "      <th>0</th>\n",
       "      <td>আপনি কেমন আছেন?</td>\n",
       "      <td>আমি ভালো আছি, ধন্যবাদ! আপনি কেমন আছেন?</td>\n",
       "    </tr>\n",
       "    <tr>\n",
       "      <th>1</th>\n",
       "      <td>আজকের ঢাকার আবহাওয়া কেমন?</td>\n",
       "      <td>আজকের ঢাকার আবহাওয়া আংশিক মেঘলা, তাপমাত্রা প্...</td>\n",
       "    </tr>\n",
       "    <tr>\n",
       "      <th>2</th>\n",
       "      <td>আপনি কী করতে পারেন?</td>\n",
       "      <td>আমি তথ্য খুঁজে দিতে, প্রশ্নের উত্তর দিতে এবং ব...</td>\n",
       "    </tr>\n",
       "    <tr>\n",
       "      <th>3</th>\n",
       "      <td>তুমি কি বাংলা বোঝো?</td>\n",
       "      <td>হ্যাঁ, আমি বাংলায় কথা বলতে এবং বুঝতে পারি।</td>\n",
       "    </tr>\n",
       "    <tr>\n",
       "      <th>4</th>\n",
       "      <td>তুমি কীভাবে কাজ করো?</td>\n",
       "      <td>আমি কৃত্রিম বুদ্ধিমত্তা ব্যবহার করে আপনার প্রশ...</td>\n",
       "    </tr>\n",
       "  </tbody>\n",
       "</table>\n",
       "</div>"
      ]
     },
     "execution_count": 5,
     "metadata": {},
     "output_type": "execute_result"
    }
   ],
   "execution_count": 5
  },
  {
   "metadata": {},
   "cell_type": "code",
   "outputs": [],
   "execution_count": null,
   "source": "",
   "id": "d6761c7007c9d6d2"
  }
 ],
 "metadata": {
  "kernelspec": {
   "display_name": "Python 3",
   "language": "python",
   "name": "python3"
  },
  "language_info": {
   "codemirror_mode": {
    "name": "ipython",
    "version": 2
   },
   "file_extension": ".py",
   "mimetype": "text/x-python",
   "name": "python",
   "nbconvert_exporter": "python",
   "pygments_lexer": "ipython2",
   "version": "2.7.6"
  }
 },
 "nbformat": 4,
 "nbformat_minor": 5
}
