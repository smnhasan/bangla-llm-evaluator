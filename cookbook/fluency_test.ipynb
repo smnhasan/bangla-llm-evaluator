{
 "cells": [
  {
   "cell_type": "code",
   "id": "initial_id",
   "metadata": {
    "collapsed": true,
    "ExecuteTime": {
     "end_time": "2025-08-06T16:58:54.947485Z",
     "start_time": "2025-08-06T16:58:54.694537Z"
    }
   },
   "source": [
    "import pandas as pd\n",
    "from llm_evaluator.evaluator import LLMEvaluator"
   ],
   "outputs": [],
   "execution_count": 1
  },
  {
   "metadata": {
    "ExecuteTime": {
     "end_time": "2025-08-06T16:58:55.029565Z",
     "start_time": "2025-08-06T16:58:55.027242Z"
    }
   },
   "cell_type": "code",
   "source": "llm_evaluator = LLMEvaluator()",
   "id": "86cf78c052fd1fb2",
   "outputs": [],
   "execution_count": 2
  },
  {
   "metadata": {
    "ExecuteTime": {
     "end_time": "2025-08-06T16:58:55.093051Z",
     "start_time": "2025-08-06T16:58:55.080645Z"
    }
   },
   "cell_type": "code",
   "source": [
    "dir = '../dataset/test_cases/fluency_response.csv'\n",
    "dataset = pd.read_csv(dir)\n",
    "dataset.head()"
   ],
   "id": "7262ecf4b84c99f9",
   "outputs": [
    {
     "data": {
      "text/plain": [
       "                   input_text  \\\n",
       "0             আপনি কেমন আছেন?   \n",
       "1  আজকের ঢাকার আবহাওয়া কেমন?   \n",
       "2         আপনি কী করতে পারেন?   \n",
       "3         তুমি কি বাংলা বোঝো?   \n",
       "4        তুমি কীভাবে কাজ করো?   \n",
       "\n",
       "                                            response  \n",
       "0             আমি ভালো আছি, ধন্যবাদ! আপনি কেমন আছেন?  \n",
       "1  আজকের ঢাকার আবহাওয়া আংশিক মেঘলা, তাপমাত্রা প্...  \n",
       "2  আমি তথ্য খুঁজে দিতে, প্রশ্নের উত্তর দিতে এবং ব...  \n",
       "3         হ্যাঁ, আমি বাংলায় কথা বলতে এবং বুঝতে পারি।  \n",
       "4  আমি কৃত্রিম বুদ্ধিমত্তা ব্যবহার করে আপনার প্রশ...  "
      ],
      "text/html": [
       "<div>\n",
       "<style scoped>\n",
       "    .dataframe tbody tr th:only-of-type {\n",
       "        vertical-align: middle;\n",
       "    }\n",
       "\n",
       "    .dataframe tbody tr th {\n",
       "        vertical-align: top;\n",
       "    }\n",
       "\n",
       "    .dataframe thead th {\n",
       "        text-align: right;\n",
       "    }\n",
       "</style>\n",
       "<table border=\"1\" class=\"dataframe\">\n",
       "  <thead>\n",
       "    <tr style=\"text-align: right;\">\n",
       "      <th></th>\n",
       "      <th>input_text</th>\n",
       "      <th>response</th>\n",
       "    </tr>\n",
       "  </thead>\n",
       "  <tbody>\n",
       "    <tr>\n",
       "      <th>0</th>\n",
       "      <td>আপনি কেমন আছেন?</td>\n",
       "      <td>আমি ভালো আছি, ধন্যবাদ! আপনি কেমন আছেন?</td>\n",
       "    </tr>\n",
       "    <tr>\n",
       "      <th>1</th>\n",
       "      <td>আজকের ঢাকার আবহাওয়া কেমন?</td>\n",
       "      <td>আজকের ঢাকার আবহাওয়া আংশিক মেঘলা, তাপমাত্রা প্...</td>\n",
       "    </tr>\n",
       "    <tr>\n",
       "      <th>2</th>\n",
       "      <td>আপনি কী করতে পারেন?</td>\n",
       "      <td>আমি তথ্য খুঁজে দিতে, প্রশ্নের উত্তর দিতে এবং ব...</td>\n",
       "    </tr>\n",
       "    <tr>\n",
       "      <th>3</th>\n",
       "      <td>তুমি কি বাংলা বোঝো?</td>\n",
       "      <td>হ্যাঁ, আমি বাংলায় কথা বলতে এবং বুঝতে পারি।</td>\n",
       "    </tr>\n",
       "    <tr>\n",
       "      <th>4</th>\n",
       "      <td>তুমি কীভাবে কাজ করো?</td>\n",
       "      <td>আমি কৃত্রিম বুদ্ধিমত্তা ব্যবহার করে আপনার প্রশ...</td>\n",
       "    </tr>\n",
       "  </tbody>\n",
       "</table>\n",
       "</div>"
      ]
     },
     "execution_count": 3,
     "metadata": {},
     "output_type": "execute_result"
    }
   ],
   "execution_count": 3
  },
  {
   "metadata": {
    "ExecuteTime": {
     "end_time": "2025-08-06T16:58:55.356916Z",
     "start_time": "2025-08-06T16:58:55.159687Z"
    }
   },
   "cell_type": "code",
   "source": "",
   "id": "4cbea36aeca913c1",
   "outputs": [
    {
     "ename": "NameError",
     "evalue": "name 'response' is not defined",
     "output_type": "error",
     "traceback": [
      "\u001B[0;31m---------------------------------------------------------------------------\u001B[0m",
      "\u001B[0;31mNameError\u001B[0m                                 Traceback (most recent call last)",
      "Cell \u001B[0;32mIn[4], line 1\u001B[0m\n\u001B[0;32m----> 1\u001B[0m \u001B[43mresponse\u001B[49m\n",
      "\u001B[0;31mNameError\u001B[0m: name 'response' is not defined"
     ]
    }
   ],
   "execution_count": 4
  }
 ],
 "metadata": {
  "kernelspec": {
   "display_name": "Python 3",
   "language": "python",
   "name": "python3"
  },
  "language_info": {
   "codemirror_mode": {
    "name": "ipython",
    "version": 2
   },
   "file_extension": ".py",
   "mimetype": "text/x-python",
   "name": "python",
   "nbconvert_exporter": "python",
   "pygments_lexer": "ipython2",
   "version": "2.7.6"
  }
 },
 "nbformat": 4,
 "nbformat_minor": 5
}
