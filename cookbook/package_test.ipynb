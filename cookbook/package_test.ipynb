{
 "cells": [
  {
   "cell_type": "code",
   "id": "initial_id",
   "metadata": {
    "collapsed": true,
    "ExecuteTime": {
     "end_time": "2025-08-02T19:56:31.545759Z",
     "start_time": "2025-08-02T19:56:31.527688Z"
    }
   },
   "source": "from llm_evaluator.evaluator import LLMEvaluator",
   "outputs": [],
   "execution_count": 1
  },
  {
   "metadata": {
    "ExecuteTime": {
     "end_time": "2025-08-02T19:57:15.941386Z",
     "start_time": "2025-08-02T19:57:15.936356Z"
    }
   },
   "cell_type": "code",
   "source": "evaluator = LLMEvaluator()",
   "id": "81f4a7d982c957c6",
   "outputs": [],
   "execution_count": 2
  },
  {
   "metadata": {
    "ExecuteTime": {
     "end_time": "2025-08-02T19:57:18.481127Z",
     "start_time": "2025-08-02T19:57:18.476876Z"
    }
   },
   "cell_type": "code",
   "source": [
    "sample = {\"conversation\": \"হ্যালো, কেমন আছেন?\"}\n",
    "result = evaluator.evaluate(sample)\n",
    "print(result)"
   ],
   "id": "5a2b843718aed2dd",
   "outputs": [
    {
     "name": "stdout",
     "output_type": "stream",
     "text": [
      "{'input': 'হ্যালো, কেমন আছেন?', 'scores': 'scores: হ্যালো, কেমন আছেন?', 'overall_score': 'overall: হ্যালো, কেমন আছেন?'}\n"
     ]
    }
   ],
   "execution_count": 3
  }
 ],
 "metadata": {
  "kernelspec": {
   "display_name": "Python 3",
   "language": "python",
   "name": "python3"
  },
  "language_info": {
   "codemirror_mode": {
    "name": "ipython",
    "version": 2
   },
   "file_extension": ".py",
   "mimetype": "text/x-python",
   "name": "python",
   "nbconvert_exporter": "python",
   "pygments_lexer": "ipython2",
   "version": "2.7.6"
  }
 },
 "nbformat": 4,
 "nbformat_minor": 5
}
