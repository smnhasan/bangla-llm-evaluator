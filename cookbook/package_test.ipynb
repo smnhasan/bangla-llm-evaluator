{
 "cells": [
  {
   "cell_type": "code",
   "id": "initial_id",
   "metadata": {
    "collapsed": true,
    "ExecuteTime": {
     "end_time": "2025-08-06T14:05:48.898391Z",
     "start_time": "2025-08-06T14:05:48.895628Z"
    }
   },
   "source": [
    "from llm_evaluator.evaluator import LLMEvaluator"
   ],
   "outputs": [],
   "execution_count": 4
  },
  {
   "cell_type": "code",
   "id": "81f4a7d982c957c6",
   "metadata": {
    "ExecuteTime": {
     "end_time": "2025-08-06T14:05:48.951300Z",
     "start_time": "2025-08-06T14:05:48.949363Z"
    }
   },
   "source": [
    "evaluator = LLMEvaluator()"
   ],
   "outputs": [],
   "execution_count": 5
  },
  {
   "cell_type": "code",
   "id": "5a2b843718aed2dd",
   "metadata": {
    "ExecuteTime": {
     "end_time": "2025-08-06T14:07:14.252544Z",
     "start_time": "2025-08-06T14:07:14.249830Z"
    }
   },
   "source": [
    "sample = {\"conversation\": \"হ্যালো, কেমন আছেন?\"}\n",
    "result = evaluator.evaluate(sample)\n",
    "print(result)"
   ],
   "outputs": [
    {
     "name": "stdout",
     "output_type": "stream",
     "text": [
      "{'conversation_fluency': 0.0, 'tool_calling_performance': 1.0, 'guardrails_compliance': 1.0, 'edge_case_handling': 1.0, 'special_instruction_adherence': 1.0, 'language_proficiency': 0.0, 'task_execution_accuracy': 1.0, 'final_score': 0.7083333333333335}\n"
     ]
    }
   ],
   "execution_count": 38
  }
 ],
 "metadata": {
  "kernelspec": {
   "display_name": "evaluator",
   "language": "python",
   "name": "python3"
  },
  "language_info": {
   "codemirror_mode": {
    "name": "ipython",
    "version": 2
   },
   "file_extension": ".py",
   "mimetype": "text/x-python",
   "name": "python",
   "nbconvert_exporter": "python",
   "pygments_lexer": "ipython2",
   "version": "3.10.13"
  }
 },
 "nbformat": 4,
 "nbformat_minor": 5
}
